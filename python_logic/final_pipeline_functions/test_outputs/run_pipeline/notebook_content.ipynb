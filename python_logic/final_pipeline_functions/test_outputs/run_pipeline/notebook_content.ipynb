{
    "nbformat": 4,
    "nbformat_minor": 5,
    "metadata": {},
    "cells": [
        {
            "id": "e9ab1b45",
            "cell_type": "code",
            "metadata": {},
            "execution_count": null,
            "source": "cells",
            "outputs": []
        },
        {
            "id": "4b3c1180",
            "cell_type": "code",
            "metadata": {},
            "execution_count": null,
            "source": "metadata",
            "outputs": []
        },
        {
            "id": "70d0884a",
            "cell_type": "code",
            "metadata": {},
            "execution_count": null,
            "source": "nbformat",
            "outputs": []
        },
        {
            "id": "689859e0",
            "cell_type": "code",
            "metadata": {},
            "execution_count": null,
            "source": "nbformat_minor",
            "outputs": []
        }
    ]
}