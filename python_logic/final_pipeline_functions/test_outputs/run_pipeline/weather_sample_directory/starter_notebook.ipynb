{
 "cells": [
  {
   "cell_type": "markdown",
   "execution_count": null,
   "id": "5a373a0b",
   "metadata": {},
   "outputs": [],
   "source": [
    "# Weather Data Analysis Project\n",
    "\n",
    "This notebook provides a guide to loading, processing, and analyzing weather data to calculate statistics such as average temperatures and humidity.\n",
    "\n",
    "---\n"
   ]
  },
  {
   "cell_type": "code",
   "execution_count": 1,
   "id": "e8e47e56",
   "metadata": {},
   "outputs": [],
   "source": [
    "import csv\n",
    "import pandas as pd\n",
    "import matplotlib.pyplot as plt\n",
    "%matplotlib inline\n"
   ]
  },
  {
   "cell_type": "markdown",
   "execution_count": null,
   "id": "f737aeba",
   "metadata": {},
   "outputs": [],
   "source": [
    "## Data Loading\n",
    "\n",
    "Read the raw weather data using the `read_csv(file_path)` function.\n"
   ]
  },
  {
   "cell_type": "code",
   "execution_count": 2,
   "id": "4a230a5b",
   "metadata": {},
   "outputs": [],
   "source": [
    "def read_csv(file_path):\n",
    "    with open(file_path, 'r') as f:\n",
    "        reader = csv.reader(f)\n",
    "        data = []\n",
    "        for row in reader:\n",
    "            data.append(row)\n",
    "    return data\n",
    "\n",
    "# For demonstration purposes, we create sample data using StringIO\n",
    "from io import StringIO\n",
    "\n",
    "csv_data = \"\"\"Date,Temperature,Humidity\n",
    "2018-01-01,30,45\n",
    "2018-01-02,32,50\n",
    "2018-01-03,31,55\n",
    "2018-01-04,29,60\n",
    "2018-01-05,28,65\n",
    "\"\"\"\n",
    "\n",
    "# Simulate reading from a file\n",
    "data_2018 = read_csv(StringIO(csv_data))\n",
    "\n",
    "# Display the data\n",
    "print(data_2018)\n"
   ]
  },
  {
   "cell_type": "markdown",
   "execution_count": null,
   "id": "20b46905",
   "metadata": {},
   "outputs": [],
   "source": [
    "## Data Processing\n",
    "\n",
    "Process the weather data to calculate average temperature and humidity using the `process_weather_data(data)` function.\n"
   ]
  },
  {
   "cell_type": "code",
   "execution_count": 3,
   "id": "710c20e4",
   "metadata": {},
   "outputs": [],
   "source": [
    "def process_weather_data(data):\n",
    "    total_temp = 0\n",
    "    total_humidity = 0\n",
    "    count = 0\n",
    "    # Skip header row\n",
    "    for row in data[1:]:\n",
    "        total_temp += int(row[1])\n",
    "        total_humidity += int(row[2])\n",
    "        count += 1\n",
    "\n",
    "    avg_temp = total_temp / count\n",
    "    avg_humidity = total_humidity / count\n",
    "\n",
    "    print(f\"Average Temperature: {avg_temp}\")\n",
    "    print(f\"Average Humidity: {avg_humidity}\")\n",
    "\n",
    "process_weather_data(data_2018)\n"
   ]
  },
  {
   "cell_type": "markdown",
   "execution_count": null,
   "id": "36d38a6b",
   "metadata": {},
   "outputs": [],
   "source": [
    "## Statistical Analysis\n",
    "\n",
    "Calculate the minimum and maximum temperatures using the `get_min_max(data)` and `calculate_statistics(data)` functions.\n"
   ]
  },
  {
   "cell_type": "code",
   "execution_count": 4,
   "id": "a1cbeadc",
   "metadata": {},
   "outputs": [],
   "source": [
    "def get_min_max(data):\n",
    "    min_temp = float('inf')\n",
    "    max_temp = float('-inf')\n",
    "    for row in data[1:]:  # Skip header\n",
    "        try:\n",
    "            temp = int(row[1])\n",
    "            if temp < min_temp:\n",
    "                min_temp = temp\n",
    "            if temp > max_temp:\n",
    "                max_temp = temp\n",
    "        except (ValueError, IndexError):\n",
    "            # Skip rows with invalid data\n",
    "            continue\n",
    "    return min_temp, max_temp\n",
    "\n",
    "def calculate_statistics(data):\n",
    "    min_temp, max_temp = get_min_max(data)\n",
    "    print(f\"Min Temperature: {min_temp}\")\n",
    "    print(f\"Max Temperature: {max_temp}\")\n",
    "\n",
    "calculate_statistics(data_2018)\n"
   ]
  },
  {
   "cell_type": "markdown",
   "execution_count": null,
   "id": "1c5f2915",
   "metadata": {},
   "outputs": [],
   "source": [
    "## Data Transformation and Utilities\n",
    "\n",
    "Use the `to_float(value)` function for converting data into numeric form.\n"
   ]
  },
  {
   "cell_type": "code",
   "execution_count": 5,
   "id": "8fc10c15",
   "metadata": {},
   "outputs": [],
   "source": [
    "def to_float(value):\n",
    "    try:\n",
    "        return float(value)\n",
    "    except:\n",
    "        return \"N/A\"\n",
    "\n",
    "# Example usage\n",
    "values = [\"42\", \"not_a_number\", \"3.14\", \"\"]\n",
    "converted_values = [to_float(v) for v in values]\n",
    "print(converted_values)\n"
   ]
  },
  {
   "cell_type": "markdown",
   "execution_count": null,
   "id": "d732de06",
   "metadata": {},
   "outputs": [],
   "source": [
    "## Data Export\n",
    "\n",
    "Save the processed data into `data/processed/weather_stats_final.csv`.\n"
   ]
  },
  {
   "cell_type": "code",
   "execution_count": 6,
   "id": "26afdb97",
   "metadata": {},
   "outputs": [],
   "source": [
    "# Prepare processed data\n",
    "processed_data = {\n",
    "    'Average Temperature': [sum(int(row[1]) for row in data_2018[1:]) / len(data_2018[1:])],\n",
    "    'Average Humidity': [sum(int(row[2]) for row in data_2018[1:]) / len(data_2018[1:])]\n",
    "}\n",
    "\n",
    "df_processed = pd.DataFrame(processed_data)\n",
    "print(df_processed)\n",
    "\n",
    "# Save to CSV (uncomment the following line to save the file)\n",
    "# df_processed.to_csv('data/processed/weather_stats_final.csv', index=False)\n"
   ]
  },
  {
   "cell_type": "markdown",
   "execution_count": null,
   "id": "28e836d3",
   "metadata": {},
   "outputs": [],
   "source": [
    "## Visualization\n",
    "\n",
    "Create plots to visualize average temperature and humidity over time.\n"
   ]
  },
  {
   "cell_type": "code",
   "execution_count": 7,
   "id": "d4229511",
   "metadata": {},
   "outputs": [],
   "source": [
    "# Convert data to DataFrame\n",
    "df = pd.DataFrame(data_2018[1:], columns=data_2018[0])\n",
    "df['Temperature'] = pd.to_numeric(df['Temperature'])\n",
    "df['Humidity'] = pd.to_numeric(df['Humidity'])\n",
    "df['Date'] = pd.to_datetime(df['Date'])\n",
    "\n",
    "# Plot Temperature over Time\n",
    "plt.figure(figsize=(10,5))\n",
    "plt.plot(df['Date'], df['Temperature'], marker='o')\n",
    "plt.title('Temperature Over Time')\n",
    "plt.xlabel('Date')\n",
    "plt.ylabel('Temperature')\n",
    "plt.grid(True)\n",
    "plt.show()\n",
    "\n",
    "# Plot Humidity over Time\n",
    "plt.figure(figsize=(10,5))\n",
    "plt.plot(df['Date'], df['Humidity'], marker='o', color='orange')\n",
    "plt.title('Humidity Over Time')\n",
    "plt.xlabel('Date')\n",
    "plt.ylabel('Humidity')\n",
    "plt.grid(True)\n",
    "plt.show()\n"
   ]
  },
  {
   "cell_type": "markdown",
   "execution_count": null,
   "id": "3f3812c7",
   "metadata": {},
   "outputs": [],
   "source": [
    "## Conclusions and Future Work\n",
    "\n",
    "This notebook demonstrates loading, processing, and analyzing weather data to calculate average temperatures and humidity, as well as finding minimum and maximum temperatures. Future improvements could include robust error handling for missing or malformed data and incorporating additional datasets for more comprehensive analysis.\n",
    "\n",
    "---\n",
    "\n",
    "*End of Notebook*"
   ]
  }
 ],
 "metadata": {
  "kernel_info": {
   "name": "python3"
  },
  "language_info": {
   "codemirror_mode": "python",
   "name": "python",
   "version": "3.8"
  }
 },
 "nbformat": 4,
 "nbformat_minor": 5
}
