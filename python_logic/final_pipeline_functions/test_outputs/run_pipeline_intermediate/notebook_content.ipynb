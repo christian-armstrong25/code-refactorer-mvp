{
    "cells": [
        {
            "cell_type": "markdown",
            "id": "9ed910b6",
            "metadata": {},
            "source": [
                "# Weather Data Analysis\n",
                "\n",
                "## Introduction\n",
                "\n",
                "This notebook provides a comprehensive analysis of weather data from the years 2018 to 2020. The objective is to read, process, and analyze the data to calculate average temperature and humidity, identify temperature extremes, and visualize trends over time.\n",
                "\n",
                "---\n"
            ]
        },
        {
            "cell_type": "code",
            "execution_count": null,
            "id": "80d92e84",
            "metadata": {},
            "outputs": [],
            "source": [
                "import os\n",
                "import csv\n",
                "import pandas as pd\n",
                "import matplotlib.pyplot as plt\n",
                "import logging\n"
            ]
        },
        {
            "cell_type": "markdown",
            "id": "04011e0f",
            "metadata": {},
            "source": [
                "## Data Preparation\n",
                "\n",
                "### Creating Sample Data\n"
            ]
        },
        {
            "cell_type": "code",
            "execution_count": null,
            "id": "add204b9",
            "metadata": {},
            "outputs": [],
            "source": [
                "# Create 'data' directory if it doesn't exist\n",
                "if not os.path.exists('data'):\n",
                "    os.makedirs('data')\n",
                "\n",
                "# Sample data for 2018\n",
                "data_2018 = [\n",
                "    ['Date', 'Temperature', 'Humidity'],\n",
                "    ['2018-01-01', '25', '60'],\n",
                "    ['2018-01-02', '28', '65'],\n",
                "    ['2018-01-03', '22', '55'],\n",
                "]\n",
                "\n",
                "# Write to CSV file\n",
                "with open('data/weather_2018.csv', 'w', newline='') as f:\n",
                "    writer = csv.writer(f)\n",
                "    writer.writerows(data_2018)\n",
                "\n",
                "# Sample data for 2019\n",
                "data_2019 = [\n",
                "    ['Date', 'Temperature', 'Humidity'],\n",
                "    ['2019-01-01', '24', '58'],\n",
                "    ['2019-01-02', '26', '62'],\n",
                "    ['2019-01-03', '23', '57'],\n",
                "]\n",
                "\n",
                "with open('data/weather_2019.csv', 'w', newline='') as f:\n",
                "    writer = csv.writer(f)\n",
                "    writer.writerows(data_2019)\n",
                "\n",
                "# Sample data for 2020\n",
                "data_2020 = [\n",
                "    ['Date', 'Temperature', 'Humidity'],\n",
                "    ['2020-01-01', '27', '66'],\n",
                "    ['2020-01-02', '29', '70'],\n",
                "    ['2020-01-03', '26', '64'],\n",
                "]\n",
                "\n",
                "with open('data/weather_2020.csv', 'w', newline='') as f:\n",
                "    writer = csv.writer(f)\n",
                "    writer.writerows(data_2020)\n"
            ]
        },
        {
            "cell_type": "markdown",
            "id": "af3d34d0",
            "metadata": {},
            "source": [
                "## Data Reading\n",
                "\n",
                "### Reading CSV Data\n"
            ]
        },
        {
            "cell_type": "code",
            "execution_count": null,
            "id": "f6a6cc5b",
            "metadata": {},
            "outputs": [],
            "source": [
                "def read_csv(file_path):\n",
                "    return pd.read_csv(file_path)\n",
                "\n",
                "# Read data into DataFrames\n",
                "df_2018 = read_csv('data/weather_2018.csv')\n",
                "df_2019 = read_csv('data/weather_2019.csv')\n",
                "df_2020 = read_csv('data/weather_2020.csv')\n",
                "\n",
                "# Display first few rows\n",
                "print(\"Data 2018:\")\n",
                "display(df_2018.head())\n",
                "print(\"Data 2019:\")\n",
                "display(df_2019.head())\n",
                "print(\"Data 2020:\")\n",
                "display(df_2020.head())\n"
            ]
        },
        {
            "cell_type": "markdown",
            "id": "fe7e2bee",
            "metadata": {},
            "source": [
                "## Data Processing\n",
                "\n",
                "### Processing Weather Data\n"
            ]
        },
        {
            "cell_type": "code",
            "execution_count": null,
            "id": "a2a4f011",
            "metadata": {},
            "outputs": [],
            "source": [
                "# Setup logging\n",
                "logging.basicConfig(level=logging.INFO, format='%(levelname)s: %(message)s')\n",
                "\n",
                "def to_float(value):\n",
                "    try:\n",
                "        return float(value)\n",
                "    except ValueError:\n",
                "        logging.warning(f\"Unable to convert '{value}' to float.\")\n",
                "        return None\n",
                "\n",
                "def process_weather(df):\n",
                "    df['Temperature'] = df['Temperature'].apply(to_float)\n",
                "    df['Humidity'] = df['Humidity'].apply(to_float)\n",
                "    \n",
                "    # Check for missing values\n",
                "    if df['Temperature'].isnull().any():\n",
                "        logging.warning(\"Missing values detected in Temperature column.\")\n",
                "    if df['Humidity'].isnull().any():\n",
                "        logging.warning(\"Missing values detected in Humidity column.\")\n",
                "    \n",
                "    avg_temp = df['Temperature'].mean()\n",
                "    avg_humidity = df['Humidity'].mean()\n",
                "    \n",
                "    return avg_temp, avg_humidity\n",
                "\n",
                "# Process weather data\n",
                "avg_temp_2018, avg_humidity_2018 = process_weather(df_2018)\n",
                "avg_temp_2019, avg_humidity_2019 = process_weather(df_2019)\n",
                "avg_temp_2020, avg_humidity_2020 = process_weather(df_2020)\n",
                "\n",
                "# Print averages\n",
                "print(f\"2018 - Average Temperature: {avg_temp_2018:.2f}, Average Humidity: {avg_humidity_2018:.2f}\")\n",
                "print(f\"2019 - Average Temperature: {avg_temp_2019:.2f}, Average Humidity: {avg_humidity_2019:.2f}\")\n",
                "print(f\"2020 - Average Temperature: {avg_temp_2020:.2f}, Average Humidity: {avg_humidity_2020:.2f}\")\n"
            ]
        },
        {
            "cell_type": "markdown",
            "id": "fcff86db",
            "metadata": {},
            "source": [
                "## Statistical Analysis\n",
                "\n",
                "### Calculating Minimum and Maximum Temperatures\n"
            ]
        },
        {
            "cell_type": "code",
            "execution_count": null,
            "id": "044c221c",
            "metadata": {},
            "outputs": [],
            "source": [
                "def get_min_max(df):\n",
                "    min_temp = df['Temperature'].min()\n",
                "    max_temp = df['Temperature'].max()\n",
                "    return min_temp, max_temp\n",
                "\n",
                "# Get min and max temperatures\n",
                "min_temp_2018, max_temp_2018 = get_min_max(df_2018)\n",
                "min_temp_2019, max_temp_2019 = get_min_max(df_2019)\n",
                "min_temp_2020, max_temp_2020 = get_min_max(df_2020)\n",
                "\n",
                "# Print min and max temperatures\n",
                "print(f\"2018 - Min Temperature: {min_temp_2018}, Max Temperature: {max_temp_2018}\")\n",
                "print(f\"2019 - Min Temperature: {min_temp_2019}, Max Temperature: {max_temp_2019}\")\n",
                "print(f\"2020 - Min Temperature: {min_temp_2020}, Max Temperature: {max_temp_2020}\")\n"
            ]
        },
        {
            "cell_type": "markdown",
            "id": "2eb92764",
            "metadata": {},
            "source": [
                "## Data Visualization\n",
                "\n",
                "### Temperature Trends Over Time\n"
            ]
        },
        {
            "cell_type": "code",
            "execution_count": null,
            "id": "4bb6eb76",
            "metadata": {},
            "outputs": [],
            "source": [
                "# Add 'Year' column to each DataFrame\n",
                "df_2018['Year'] = 2018\n",
                "df_2019['Year'] = 2019\n",
                "df_2020['Year'] = 2020\n",
                "\n",
                "# Combine DataFrames\n",
                "df_all = pd.concat([df_2018, df_2019, df_2020], ignore_index=True)\n",
                "\n",
                "# Convert 'Date' column to datetime\n",
                "df_all['Date'] = pd.to_datetime(df_all['Date'])\n",
                "\n",
                "# Sort by date\n",
                "df_all = df_all.sort_values('Date')\n"
            ]
        },
        {
            "cell_type": "code",
            "execution_count": null,
            "id": "88ab92b6",
            "metadata": {},
            "outputs": [],
            "source": [
                "# Plot Temperature over time\n",
                "plt.figure(figsize=(10,6))\n",
                "plt.plot(df_all['Date'], df_all['Temperature'], marker='o')\n",
                "plt.title('Temperature Over Time')\n",
                "plt.xlabel('Date')\n",
                "plt.ylabel('Temperature')\n",
                "plt.xticks(rotation=45)\n",
                "plt.grid(True)\n",
                "plt.tight_layout()\n",
                "plt.show()\n"
            ]
        },
        {
            "cell_type": "markdown",
            "id": "a27b139e",
            "metadata": {},
            "source": [
                "### Temperature Distribution\n"
            ]
        },
        {
            "cell_type": "code",
            "execution_count": null,
            "id": "10780238",
            "metadata": {},
            "outputs": [],
            "source": [
                "# Histogram of temperatures\n",
                "plt.figure(figsize=(8,6))\n",
                "plt.hist(df_all['Temperature'].dropna(), bins=10, edgecolor='black')\n",
                "plt.title('Distribution of Temperatures')\n",
                "plt.xlabel('Temperature')\n",
                "plt.ylabel('Frequency')\n",
                "plt.grid(True)\n",
                "plt.show()\n"
            ]
        },
        {
            "cell_type": "markdown",
            "id": "c1128896",
            "metadata": {},
            "source": [
                "## Conclusion\n",
                "\n",
                "Average temperatures and humidity levels were calculated for the years 2018 to 2020. The minimum and maximum temperatures were identified for each year. Visualizations display temperature trends over time and the distribution of temperatures across the dataset.\n",
                "\n",
                "---\n"
            ]
        },
        {
            "cell_type": "markdown",
            "id": "8caec340",
            "metadata": {},
            "source": [
                "## Further Enhancements\n",
                "\n",
                "- **Error Handling**: Improve robustness by handling missing or malformed data more effectively.\n",
                "- **Data Validation**: Implement data validation checks before processing.\n",
                "- **Scalability**: Adapt the code to process larger datasets efficiently, possibly integrating parallel processing.\n",
                "- **Modular Code**: Refactor code into reusable modules or classes for better maintainability.\n",
                "\n",
                "---"
            ]
        }
    ],
    "metadata": {
        "kernel_info": {
            "name": "python3"
        },
        "language_info": {
            "codemirror_mode": "python",
            "name": "python",
            "version": "3.8.5"
        }
    },
    "nbformat": 4,
    "nbformat_minor": 5
}
